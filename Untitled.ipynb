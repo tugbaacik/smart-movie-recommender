{
 "cells": [
  {
   "cell_type": "code",
   "execution_count": 3,
   "id": "2f5e552f-659c-436f-b651-344772a85cfd",
   "metadata": {},
   "outputs": [
    {
     "data": {
      "text/html": [
       "<div>\n",
       "<style scoped>\n",
       "    .dataframe tbody tr th:only-of-type {\n",
       "        vertical-align: middle;\n",
       "    }\n",
       "\n",
       "    .dataframe tbody tr th {\n",
       "        vertical-align: top;\n",
       "    }\n",
       "\n",
       "    .dataframe thead th {\n",
       "        text-align: right;\n",
       "    }\n",
       "</style>\n",
       "<table border=\"1\" class=\"dataframe\">\n",
       "  <thead>\n",
       "    <tr style=\"text-align: right;\">\n",
       "      <th></th>\n",
       "      <th>user_id</th>\n",
       "      <th>item_id</th>\n",
       "      <th>rating</th>\n",
       "      <th>timestamp</th>\n",
       "      <th>title</th>\n",
       "    </tr>\n",
       "  </thead>\n",
       "  <tbody>\n",
       "    <tr>\n",
       "      <th>0</th>\n",
       "      <td>196</td>\n",
       "      <td>242</td>\n",
       "      <td>3</td>\n",
       "      <td>881250949</td>\n",
       "      <td>Kolya (1996)</td>\n",
       "    </tr>\n",
       "    <tr>\n",
       "      <th>1</th>\n",
       "      <td>186</td>\n",
       "      <td>302</td>\n",
       "      <td>3</td>\n",
       "      <td>891717742</td>\n",
       "      <td>L.A. Confidential (1997)</td>\n",
       "    </tr>\n",
       "    <tr>\n",
       "      <th>2</th>\n",
       "      <td>22</td>\n",
       "      <td>377</td>\n",
       "      <td>1</td>\n",
       "      <td>878887116</td>\n",
       "      <td>Heavyweights (1994)</td>\n",
       "    </tr>\n",
       "    <tr>\n",
       "      <th>3</th>\n",
       "      <td>244</td>\n",
       "      <td>51</td>\n",
       "      <td>2</td>\n",
       "      <td>880606923</td>\n",
       "      <td>Legends of the Fall (1994)</td>\n",
       "    </tr>\n",
       "    <tr>\n",
       "      <th>4</th>\n",
       "      <td>166</td>\n",
       "      <td>346</td>\n",
       "      <td>1</td>\n",
       "      <td>886397596</td>\n",
       "      <td>Jackie Brown (1997)</td>\n",
       "    </tr>\n",
       "  </tbody>\n",
       "</table>\n",
       "</div>"
      ],
      "text/plain": [
       "   user_id  item_id  rating  timestamp                       title\n",
       "0      196      242       3  881250949                Kolya (1996)\n",
       "1      186      302       3  891717742    L.A. Confidential (1997)\n",
       "2       22      377       1  878887116         Heavyweights (1994)\n",
       "3      244       51       2  880606923  Legends of the Fall (1994)\n",
       "4      166      346       1  886397596         Jackie Brown (1997)"
      ]
     },
     "execution_count": 3,
     "metadata": {},
     "output_type": "execute_result"
    }
   ],
   "source": [
    "import pandas as pd\n",
    "\n",
    "ratings = pd.read_csv('data/ml-100k/u.data', sep='\\t', names=[\"user_id\", \"item_id\", \"rating\", \"timestamp\"])\n",
    "movies = pd.read_csv('data/ml-100k/u.item', sep='|', encoding='latin-1', usecols=[0, 1], names=[\"item_id\", \"title\"])\n",
    "\n",
    "df = pd.merge(ratings, movies, on=\"item_id\")\n",
    "df.head()\n",
    "\n"
   ]
  },
  {
   "cell_type": "code",
   "execution_count": 6,
   "id": "ddea0f47-a2a2-4406-885e-2705b4043960",
   "metadata": {},
   "outputs": [
    {
     "name": "stdout",
     "output_type": "stream",
     "text": [
      "Toplam kullanıcı sayısı: 943\n",
      "Toplam film sayısı: 1664\n",
      "Toplam puan sayısı: 100000\n",
      "\n",
      "Puanların dağılımı:\n",
      "rating\n",
      "1     6110\n",
      "2    11370\n",
      "3    27145\n",
      "4    34174\n",
      "5    21201\n",
      "Name: count, dtype: int64\n"
     ]
    }
   ],
   "source": [
    "print(f\"Toplam kullanıcı sayısı: {df['user_id'].nunique()}\")\n",
    "print(f\"Toplam film sayısı: {df['title'].nunique()}\")\n",
    "print(f\"Toplam puan sayısı: {len(df)}\")\n",
    "\n",
    "print(\"\\nPuanların dağılımı:\")\n",
    "print(df['rating'].value_counts().sort_index())\n",
    "\n",
    "\n"
   ]
  },
  {
   "cell_type": "code",
   "execution_count": 2,
   "id": "6f18855b-bb39-4cf5-82fc-658eb45a9661",
   "metadata": {},
   "outputs": [
    {
     "name": "stdout",
     "output_type": "stream",
     "text": [
      "C:\\Users\\TUĞBA\\OneDrive - TED Üniversitesi\\Masaüstü\\smart-recommender\n"
     ]
    }
   ],
   "source": [
    "import os\n",
    "print(os.getcwd())\n"
   ]
  },
  {
   "cell_type": "code",
   "execution_count": 15,
   "id": "89e67169-f19a-492f-8e3e-62f303f12824",
   "metadata": {},
   "outputs": [],
   "source": [
    "rating_counts = df.groupby('title').size()\n",
    "popular_titles = rating_counts[rating_counts >= 100].index\n",
    "popular_movies_df = df[df['title'].isin(popular_titles)].reset_index(drop=True)\n",
    "popular_movies_df = popular_movies_df.sample(n=10000, random_state=42).reset_index(drop=True)\n",
    "\n",
    "\n"
   ]
  },
  {
   "cell_type": "code",
   "execution_count": 18,
   "id": "d3d4a89d-abe6-448e-96b6-8a78d837f518",
   "metadata": {},
   "outputs": [],
   "source": [
    "from sklearn.feature_extraction.text import TfidfVectorizer\n",
    "from sklearn.metrics.pairwise import linear_kernel\n",
    "\n",
    "tfidf = TfidfVectorizer(stop_words='english')\n",
    "tfidf_matrix = tfidf.fit_transform(popular_movies_df['title'])\n",
    "cosine_sim = linear_kernel(tfidf_matrix, tfidf_matrix)\n",
    "\n",
    "indices = pd.Series(popular_movies_df.index, index=popular_movies_df['title']).drop_duplicates()\n",
    "\n",
    "def get_recommendations(title, cosine_sim=cosine_sim, indices=indices, top_n=5):\n",
    "    idx = indices[title]\n",
    "    sim_scores = list(enumerate(cosine_sim[idx].flatten()))\n",
    "    sim_scores = sorted(sim_scores, key=lambda x: x[1], reverse=True)[1:top_n+1]\n",
    "    movie_indices = [i[0] for i in sim_scores]\n",
    "    return popular_movies_df['title'].iloc[movie_indices]\n",
    "\n",
    "\n"
   ]
  },
  {
   "cell_type": "code",
   "execution_count": 19,
   "id": "9eb489ae-7b7b-401b-81e2-175424b66896",
   "metadata": {},
   "outputs": [
    {
     "name": "stdout",
     "output_type": "stream",
     "text": [
      "383    Star Wars (1977)\n",
      "437    Star Wars (1977)\n",
      "441    Star Wars (1977)\n",
      "634    Star Wars (1977)\n",
      "790    Star Wars (1977)\n",
      "Name: title, dtype: object\n"
     ]
    }
   ],
   "source": [
    "print(get_recommendations('Star Wars (1977)'))"
   ]
  },
  {
   "cell_type": "code",
   "execution_count": 20,
   "id": "d1393983-ca7d-4a7c-9f7d-d02231f18bf6",
   "metadata": {},
   "outputs": [],
   "source": [
    "# 'u.item' dosyasının yolu (dosyanın doğru yerde olduğundan emin ol)\n",
    "item_path = 'data/ml-100k/u.item'  # senin dosya konumuna göre ayarla\n",
    "\n",
    "# Tür sütun isimleri (19 tür var)\n",
    "genres = ['unknown', 'Action', 'Adventure', 'Animation', 'Children\\'s', 'Comedy', 'Crime', 'Documentary',\n",
    "          'Drama', 'Fantasy', 'Film-Noir', 'Horror', 'Musical', 'Mystery', 'Romance', 'Sci-Fi',\n",
    "          'Thriller', 'War', 'Western']\n",
    "\n",
    "# u.item dosyasını oku\n",
    "movies_info = pd.read_csv(item_path, sep='|', header=None, encoding='latin-1',\n",
    "                          names=['item_id', 'title'] + genres)\n",
    "\n",
    "# Türleri birleştir (örneğin türü olanları virgülle ayırarak)\n",
    "def combine_genres(row):\n",
    "    return ','.join([genre for genre in genres if row[genre] == 1])\n",
    "\n",
    "movies_info['genres_combined'] = movies_info.apply(combine_genres, axis=1)\n"
   ]
  },
  {
   "cell_type": "code",
   "execution_count": 21,
   "id": "12334ed0-edd5-4809-ba2a-12669d273b8c",
   "metadata": {},
   "outputs": [],
   "source": [
    "# popular_movies_df ve movies_info'yu item_id ile birleştir (popüler filmlerle eşleştirme)\n",
    "popular_movies_df = popular_movies_df.merge(movies_info[['title', 'genres_combined']], on='title', how='left')\n"
   ]
  },
  {
   "cell_type": "code",
   "execution_count": 24,
   "id": "aeed7f96-8f1a-4dbd-ba79-4cc2c9300cc9",
   "metadata": {},
   "outputs": [
    {
     "name": "stdout",
     "output_type": "stream",
     "text": [
      "                                                                             title  \\\n",
      "1 Toy Story (1995)  01-Jan-1995  http://us.imdb.com/M/title-exact?Toy%20Story%2...   \n",
      "2 GoldenEye (1995)  01-Jan-1995  http://us.imdb.com/M/title-exact?GoldenEye%20(...   \n",
      "3 Four Rooms (1995) 01-Jan-1995  http://us.imdb.com/M/title-exact?Four%20Rooms%...   \n",
      "4 Get Shorty (1995) 01-Jan-1995  http://us.imdb.com/M/title-exact?Get%20Shorty%...   \n",
      "5 Copycat (1995)    01-Jan-1995  http://us.imdb.com/M/title-exact?Copycat%20(1995)   \n",
      "\n",
      "                                             genres_combined  \n",
      "1 Toy Story (1995)  01-Jan-1995  Animation,Children's,Comedy  \n",
      "2 GoldenEye (1995)  01-Jan-1995    Action,Adventure,Thriller  \n",
      "3 Four Rooms (1995) 01-Jan-1995                     Thriller  \n",
      "4 Get Shorty (1995) 01-Jan-1995          Action,Comedy,Drama  \n",
      "5 Copycat (1995)    01-Jan-1995         Crime,Drama,Thriller  \n"
     ]
    }
   ],
   "source": [
    "# Tür sütun isimleri\n",
    "genres = ['unknown', 'Action', 'Adventure', 'Animation', \"Children's\", 'Comedy', 'Crime', 'Documentary',\n",
    "          'Drama', 'Fantasy', 'Film-Noir', 'Horror', 'Musical', 'Mystery', 'Romance', 'Sci-Fi',\n",
    "          'Thriller', 'War', 'Western']\n",
    "\n",
    "# 'u.item' dosyasının yolunu belirt (senin dosya konumuna göre düzenle)\n",
    "item_path = 'data/ml-100k/u.item'  \n",
    "\n",
    "# Dosyayı oku\n",
    "movies_info = pd.read_csv(item_path, sep='|', header=None, encoding='latin-1',\n",
    "                          names=['item_id', 'title'] + genres)\n",
    "\n",
    "# genres_combined sütununu oluştur\n",
    "def combine_genres(row):\n",
    "    return ','.join([genre for genre in genres if row[genre] == 1])\n",
    "\n",
    "movies_info['genres_combined'] = movies_info.apply(combine_genres, axis=1)\n",
    "\n",
    "# Kontrol için ilk birkaç satırı göster\n",
    "print(movies_info[['title', 'genres_combined']].head())\n"
   ]
  },
  {
   "cell_type": "code",
   "execution_count": 25,
   "id": "7da6edcc-6b96-48ed-ac58-afcf4b48642e",
   "metadata": {},
   "outputs": [
    {
     "name": "stdout",
     "output_type": "stream",
     "text": [
      "                                 title genres_combined\n",
      "0     Silence of the Lambs, The (1991)                \n",
      "1                       Tin Cup (1996)                \n",
      "2  Truth About Cats & Dogs, The (1996)                \n",
      "3                        Eraser (1996)                \n",
      "4         Sense and Sensibility (1995)                \n"
     ]
    }
   ],
   "source": [
    "popular_movies_df = popular_movies_df.merge(movies_info[['title', 'genres_combined']], on='title', how='left')\n",
    "popular_movies_df['genres_combined'] = popular_movies_df['genres_combined'].fillna('')\n",
    "\n",
    "print(popular_movies_df[['title', 'genres_combined']].head())\n"
   ]
  },
  {
   "cell_type": "code",
   "execution_count": 28,
   "id": "36eb2388-3747-4caf-b785-5897e7770a7f",
   "metadata": {},
   "outputs": [
    {
     "name": "stdout",
     "output_type": "stream",
     "text": [
      "Boş tür sayısı: 0\n",
      "Boş string sayısı: 10000\n",
      "0    \n",
      "1    \n",
      "2    \n",
      "3    \n",
      "4    \n",
      "5    \n",
      "6    \n",
      "7    \n",
      "8    \n",
      "9    \n",
      "Name: genres_combined, dtype: object\n",
      "                                                                                                               title  \\\n",
      "1  Toy Story (1995)                                   01-Jan-1995  http://us.imdb.com/M/title-exact?Toy%20Story%2...   \n",
      "2  GoldenEye (1995)                                   01-Jan-1995  http://us.imdb.com/M/title-exact?GoldenEye%20(...   \n",
      "3  Four Rooms (1995)                                  01-Jan-1995  http://us.imdb.com/M/title-exact?Four%20Rooms%...   \n",
      "4  Get Shorty (1995)                                  01-Jan-1995  http://us.imdb.com/M/title-exact?Get%20Shorty%...   \n",
      "5  Copycat (1995)                                     01-Jan-1995  http://us.imdb.com/M/title-exact?Copycat%20(1995)   \n",
      "6  Shanghai Triad (Yao a yao yao dao waipo qiao) (... 01-Jan-1995  http://us.imdb.com/Title?Yao+a+yao+yao+dao+wai...   \n",
      "7  Twelve Monkeys (1995)                              01-Jan-1995  http://us.imdb.com/M/title-exact?Twelve%20Monk...   \n",
      "8  Babe (1995)                                        01-Jan-1995     http://us.imdb.com/M/title-exact?Babe%20(1995)   \n",
      "9  Dead Man Walking (1995)                            01-Jan-1995  http://us.imdb.com/M/title-exact?Dead%20Man%20...   \n",
      "10 Richard III (1995)                                 22-Jan-1996  http://us.imdb.com/M/title-exact?Richard%20III...   \n",
      "\n",
      "                                                                               genres_combined  \n",
      "1  Toy Story (1995)                                   01-Jan-1995  Animation,Children's,Comedy  \n",
      "2  GoldenEye (1995)                                   01-Jan-1995    Action,Adventure,Thriller  \n",
      "3  Four Rooms (1995)                                  01-Jan-1995                     Thriller  \n",
      "4  Get Shorty (1995)                                  01-Jan-1995          Action,Comedy,Drama  \n",
      "5  Copycat (1995)                                     01-Jan-1995         Crime,Drama,Thriller  \n",
      "6  Shanghai Triad (Yao a yao yao dao waipo qiao) (... 01-Jan-1995                        Drama  \n",
      "7  Twelve Monkeys (1995)                              01-Jan-1995                 Drama,Sci-Fi  \n",
      "8  Babe (1995)                                        01-Jan-1995      Children's,Comedy,Drama  \n",
      "9  Dead Man Walking (1995)                            01-Jan-1995                        Drama  \n",
      "10 Richard III (1995)                                 22-Jan-1996                    Drama,War  \n",
      "Merge sonrası tür bilgisi olan film sayısı: 0\n",
      "Merge sonrası tür bilgisi olmayan film sayısı: 10000\n"
     ]
    }
   ],
   "source": [
    "print(\"Boş tür sayısı:\", popular_movies_df['genres_combined'].isna().sum())\n",
    "print(\"Boş string sayısı:\", (popular_movies_df['genres_combined'] == '').sum())\n",
    "print(popular_movies_df['genres_combined'].head(10))\n",
    "print(movies_info[['title', 'genres_combined']].head(10))\n",
    "print(\"Merge sonrası tür bilgisi olan film sayısı:\", popular_movies_df[popular_movies_df['genres_combined'] != ''].shape[0])\n",
    "print(\"Merge sonrası tür bilgisi olmayan film sayısı:\", popular_movies_df[popular_movies_df['genres_combined'] == ''].shape[0])\n"
   ]
  },
  {
   "cell_type": "code",
   "execution_count": 29,
   "id": "9c25b105-912e-4a11-a5a6-560e15b2e241",
   "metadata": {},
   "outputs": [
    {
     "name": "stdout",
     "output_type": "stream",
     "text": [
      "               title          genres_combined\n",
      "0   Toy Story (1995)  Crime,Documentary,Drama\n",
      "1   GoldenEye (1995)        Children's,Comedy\n",
      "2  Four Rooms (1995)                         \n",
      "3  Get Shorty (1995)  Children's,Drama,Horror\n",
      "4     Copycat (1995)           Fantasy,Horror\n"
     ]
    }
   ],
   "source": [
    "genres = ['unknown', 'Action', 'Adventure', 'Animation', \"Children's\", 'Comedy', 'Crime', 'Documentary',\n",
    "          'Drama', 'Fantasy', 'Film-Noir', 'Horror', 'Musical', 'Mystery', 'Romance', 'Sci-Fi',\n",
    "          'Thriller', 'War', 'Western']\n",
    "\n",
    "columns = ['item_id', 'title'] + genres\n",
    "\n",
    "movies_info = pd.read_csv('data/ml-100k/u.item', sep='|', header=None, names=columns, encoding='latin-1', usecols=range(2+len(genres)))\n",
    "\n",
    "def combine_genres(row):\n",
    "    return ','.join([genre for genre in genres if row[genre] == 1])\n",
    "\n",
    "movies_info['genres_combined'] = movies_info.apply(combine_genres, axis=1)\n",
    "\n",
    "print(movies_info[['title', 'genres_combined']].head())\n"
   ]
  },
  {
   "cell_type": "code",
   "execution_count": 30,
   "id": "06412d54-fb1d-4d55-9c57-7d6844ba8339",
   "metadata": {},
   "outputs": [
    {
     "ename": "MergeError",
     "evalue": "Passing 'suffixes' which cause duplicate columns {'genres_combined_x'} is not allowed.",
     "output_type": "error",
     "traceback": [
      "\u001b[31m---------------------------------------------------------------------------\u001b[39m",
      "\u001b[31mMergeError\u001b[39m                                Traceback (most recent call last)",
      "\u001b[36mCell\u001b[39m\u001b[36m \u001b[39m\u001b[32mIn[30]\u001b[39m\u001b[32m, line 1\u001b[39m\n\u001b[32m----> \u001b[39m\u001b[32m1\u001b[39m popular_movies_df = \u001b[43mpopular_movies_df\u001b[49m\u001b[43m.\u001b[49m\u001b[43mmerge\u001b[49m\u001b[43m(\u001b[49m\u001b[43mmovies_info\u001b[49m\u001b[43m[\u001b[49m\u001b[43m[\u001b[49m\u001b[33;43m'\u001b[39;49m\u001b[33;43mtitle\u001b[39;49m\u001b[33;43m'\u001b[39;49m\u001b[43m,\u001b[49m\u001b[43m \u001b[49m\u001b[33;43m'\u001b[39;49m\u001b[33;43mgenres_combined\u001b[39;49m\u001b[33;43m'\u001b[39;49m\u001b[43m]\u001b[49m\u001b[43m]\u001b[49m\u001b[43m,\u001b[49m\u001b[43m \u001b[49m\u001b[43mon\u001b[49m\u001b[43m=\u001b[49m\u001b[33;43m'\u001b[39;49m\u001b[33;43mtitle\u001b[39;49m\u001b[33;43m'\u001b[39;49m\u001b[43m,\u001b[49m\u001b[43m \u001b[49m\u001b[43mhow\u001b[49m\u001b[43m=\u001b[49m\u001b[33;43m'\u001b[39;49m\u001b[33;43mleft\u001b[39;49m\u001b[33;43m'\u001b[39;49m\u001b[43m)\u001b[49m\n\u001b[32m      2\u001b[39m popular_movies_df[\u001b[33m'\u001b[39m\u001b[33mgenres_combined\u001b[39m\u001b[33m'\u001b[39m] = popular_movies_df[\u001b[33m'\u001b[39m\u001b[33mgenres_combined\u001b[39m\u001b[33m'\u001b[39m].fillna(\u001b[33m'\u001b[39m\u001b[33m'\u001b[39m)\n\u001b[32m      4\u001b[39m \u001b[38;5;28mprint\u001b[39m(popular_movies_df[[\u001b[33m'\u001b[39m\u001b[33mtitle\u001b[39m\u001b[33m'\u001b[39m, \u001b[33m'\u001b[39m\u001b[33mgenres_combined\u001b[39m\u001b[33m'\u001b[39m]].head())\n",
      "\u001b[36mFile \u001b[39m\u001b[32m~\\OneDrive - TED Üniversitesi\\Masaüstü\\smart-recommender\\venv\\Lib\\site-packages\\pandas\\core\\frame.py:10839\u001b[39m, in \u001b[36mDataFrame.merge\u001b[39m\u001b[34m(self, right, how, on, left_on, right_on, left_index, right_index, sort, suffixes, copy, indicator, validate)\u001b[39m\n\u001b[32m  10820\u001b[39m \u001b[38;5;129m@Substitution\u001b[39m(\u001b[33m\"\u001b[39m\u001b[33m\"\u001b[39m)\n\u001b[32m  10821\u001b[39m \u001b[38;5;129m@Appender\u001b[39m(_merge_doc, indents=\u001b[32m2\u001b[39m)\n\u001b[32m  10822\u001b[39m \u001b[38;5;28;01mdef\u001b[39;00m\u001b[38;5;250m \u001b[39m\u001b[34mmerge\u001b[39m(\n\u001b[32m   (...)\u001b[39m\u001b[32m  10835\u001b[39m     validate: MergeValidate | \u001b[38;5;28;01mNone\u001b[39;00m = \u001b[38;5;28;01mNone\u001b[39;00m,\n\u001b[32m  10836\u001b[39m ) -> DataFrame:\n\u001b[32m  10837\u001b[39m     \u001b[38;5;28;01mfrom\u001b[39;00m\u001b[38;5;250m \u001b[39m\u001b[34;01mpandas\u001b[39;00m\u001b[34;01m.\u001b[39;00m\u001b[34;01mcore\u001b[39;00m\u001b[34;01m.\u001b[39;00m\u001b[34;01mreshape\u001b[39;00m\u001b[34;01m.\u001b[39;00m\u001b[34;01mmerge\u001b[39;00m\u001b[38;5;250m \u001b[39m\u001b[38;5;28;01mimport\u001b[39;00m merge\n\u001b[32m> \u001b[39m\u001b[32m10839\u001b[39m     \u001b[38;5;28;01mreturn\u001b[39;00m \u001b[43mmerge\u001b[49m\u001b[43m(\u001b[49m\n\u001b[32m  10840\u001b[39m \u001b[43m        \u001b[49m\u001b[38;5;28;43mself\u001b[39;49m\u001b[43m,\u001b[49m\n\u001b[32m  10841\u001b[39m \u001b[43m        \u001b[49m\u001b[43mright\u001b[49m\u001b[43m,\u001b[49m\n\u001b[32m  10842\u001b[39m \u001b[43m        \u001b[49m\u001b[43mhow\u001b[49m\u001b[43m=\u001b[49m\u001b[43mhow\u001b[49m\u001b[43m,\u001b[49m\n\u001b[32m  10843\u001b[39m \u001b[43m        \u001b[49m\u001b[43mon\u001b[49m\u001b[43m=\u001b[49m\u001b[43mon\u001b[49m\u001b[43m,\u001b[49m\n\u001b[32m  10844\u001b[39m \u001b[43m        \u001b[49m\u001b[43mleft_on\u001b[49m\u001b[43m=\u001b[49m\u001b[43mleft_on\u001b[49m\u001b[43m,\u001b[49m\n\u001b[32m  10845\u001b[39m \u001b[43m        \u001b[49m\u001b[43mright_on\u001b[49m\u001b[43m=\u001b[49m\u001b[43mright_on\u001b[49m\u001b[43m,\u001b[49m\n\u001b[32m  10846\u001b[39m \u001b[43m        \u001b[49m\u001b[43mleft_index\u001b[49m\u001b[43m=\u001b[49m\u001b[43mleft_index\u001b[49m\u001b[43m,\u001b[49m\n\u001b[32m  10847\u001b[39m \u001b[43m        \u001b[49m\u001b[43mright_index\u001b[49m\u001b[43m=\u001b[49m\u001b[43mright_index\u001b[49m\u001b[43m,\u001b[49m\n\u001b[32m  10848\u001b[39m \u001b[43m        \u001b[49m\u001b[43msort\u001b[49m\u001b[43m=\u001b[49m\u001b[43msort\u001b[49m\u001b[43m,\u001b[49m\n\u001b[32m  10849\u001b[39m \u001b[43m        \u001b[49m\u001b[43msuffixes\u001b[49m\u001b[43m=\u001b[49m\u001b[43msuffixes\u001b[49m\u001b[43m,\u001b[49m\n\u001b[32m  10850\u001b[39m \u001b[43m        \u001b[49m\u001b[43mcopy\u001b[49m\u001b[43m=\u001b[49m\u001b[43mcopy\u001b[49m\u001b[43m,\u001b[49m\n\u001b[32m  10851\u001b[39m \u001b[43m        \u001b[49m\u001b[43mindicator\u001b[49m\u001b[43m=\u001b[49m\u001b[43mindicator\u001b[49m\u001b[43m,\u001b[49m\n\u001b[32m  10852\u001b[39m \u001b[43m        \u001b[49m\u001b[43mvalidate\u001b[49m\u001b[43m=\u001b[49m\u001b[43mvalidate\u001b[49m\u001b[43m,\u001b[49m\n\u001b[32m  10853\u001b[39m \u001b[43m    \u001b[49m\u001b[43m)\u001b[49m\n",
      "\u001b[36mFile \u001b[39m\u001b[32m~\\OneDrive - TED Üniversitesi\\Masaüstü\\smart-recommender\\venv\\Lib\\site-packages\\pandas\\core\\reshape\\merge.py:184\u001b[39m, in \u001b[36mmerge\u001b[39m\u001b[34m(left, right, how, on, left_on, right_on, left_index, right_index, sort, suffixes, copy, indicator, validate)\u001b[39m\n\u001b[32m    169\u001b[39m \u001b[38;5;28;01melse\u001b[39;00m:\n\u001b[32m    170\u001b[39m     op = _MergeOperation(\n\u001b[32m    171\u001b[39m         left_df,\n\u001b[32m    172\u001b[39m         right_df,\n\u001b[32m   (...)\u001b[39m\u001b[32m    182\u001b[39m         validate=validate,\n\u001b[32m    183\u001b[39m     )\n\u001b[32m--> \u001b[39m\u001b[32m184\u001b[39m     \u001b[38;5;28;01mreturn\u001b[39;00m \u001b[43mop\u001b[49m\u001b[43m.\u001b[49m\u001b[43mget_result\u001b[49m\u001b[43m(\u001b[49m\u001b[43mcopy\u001b[49m\u001b[43m=\u001b[49m\u001b[43mcopy\u001b[49m\u001b[43m)\u001b[49m\n",
      "\u001b[36mFile \u001b[39m\u001b[32m~\\OneDrive - TED Üniversitesi\\Masaüstü\\smart-recommender\\venv\\Lib\\site-packages\\pandas\\core\\reshape\\merge.py:888\u001b[39m, in \u001b[36m_MergeOperation.get_result\u001b[39m\u001b[34m(self, copy)\u001b[39m\n\u001b[32m    884\u001b[39m     \u001b[38;5;28mself\u001b[39m.left, \u001b[38;5;28mself\u001b[39m.right = \u001b[38;5;28mself\u001b[39m._indicator_pre_merge(\u001b[38;5;28mself\u001b[39m.left, \u001b[38;5;28mself\u001b[39m.right)\n\u001b[32m    886\u001b[39m join_index, left_indexer, right_indexer = \u001b[38;5;28mself\u001b[39m._get_join_info()\n\u001b[32m--> \u001b[39m\u001b[32m888\u001b[39m result = \u001b[38;5;28;43mself\u001b[39;49m\u001b[43m.\u001b[49m\u001b[43m_reindex_and_concat\u001b[49m\u001b[43m(\u001b[49m\n\u001b[32m    889\u001b[39m \u001b[43m    \u001b[49m\u001b[43mjoin_index\u001b[49m\u001b[43m,\u001b[49m\u001b[43m \u001b[49m\u001b[43mleft_indexer\u001b[49m\u001b[43m,\u001b[49m\u001b[43m \u001b[49m\u001b[43mright_indexer\u001b[49m\u001b[43m,\u001b[49m\u001b[43m \u001b[49m\u001b[43mcopy\u001b[49m\u001b[43m=\u001b[49m\u001b[43mcopy\u001b[49m\n\u001b[32m    890\u001b[39m \u001b[43m\u001b[49m\u001b[43m)\u001b[49m\n\u001b[32m    891\u001b[39m result = result.__finalize__(\u001b[38;5;28mself\u001b[39m, method=\u001b[38;5;28mself\u001b[39m._merge_type)\n\u001b[32m    893\u001b[39m \u001b[38;5;28;01mif\u001b[39;00m \u001b[38;5;28mself\u001b[39m.indicator:\n",
      "\u001b[36mFile \u001b[39m\u001b[32m~\\OneDrive - TED Üniversitesi\\Masaüstü\\smart-recommender\\venv\\Lib\\site-packages\\pandas\\core\\reshape\\merge.py:840\u001b[39m, in \u001b[36m_MergeOperation._reindex_and_concat\u001b[39m\u001b[34m(self, join_index, left_indexer, right_indexer, copy)\u001b[39m\n\u001b[32m    837\u001b[39m left = \u001b[38;5;28mself\u001b[39m.left[:]\n\u001b[32m    838\u001b[39m right = \u001b[38;5;28mself\u001b[39m.right[:]\n\u001b[32m--> \u001b[39m\u001b[32m840\u001b[39m llabels, rlabels = \u001b[43m_items_overlap_with_suffix\u001b[49m\u001b[43m(\u001b[49m\n\u001b[32m    841\u001b[39m \u001b[43m    \u001b[49m\u001b[38;5;28;43mself\u001b[39;49m\u001b[43m.\u001b[49m\u001b[43mleft\u001b[49m\u001b[43m.\u001b[49m\u001b[43m_info_axis\u001b[49m\u001b[43m,\u001b[49m\u001b[43m \u001b[49m\u001b[38;5;28;43mself\u001b[39;49m\u001b[43m.\u001b[49m\u001b[43mright\u001b[49m\u001b[43m.\u001b[49m\u001b[43m_info_axis\u001b[49m\u001b[43m,\u001b[49m\u001b[43m \u001b[49m\u001b[38;5;28;43mself\u001b[39;49m\u001b[43m.\u001b[49m\u001b[43msuffixes\u001b[49m\n\u001b[32m    842\u001b[39m \u001b[43m\u001b[49m\u001b[43m)\u001b[49m\n\u001b[32m    844\u001b[39m \u001b[38;5;28;01mif\u001b[39;00m left_indexer \u001b[38;5;129;01mis\u001b[39;00m \u001b[38;5;129;01mnot\u001b[39;00m \u001b[38;5;28;01mNone\u001b[39;00m \u001b[38;5;129;01mand\u001b[39;00m \u001b[38;5;129;01mnot\u001b[39;00m is_range_indexer(left_indexer, \u001b[38;5;28mlen\u001b[39m(left)):\n\u001b[32m    845\u001b[39m     \u001b[38;5;66;03m# Pinning the index here (and in the right code just below) is not\u001b[39;00m\n\u001b[32m    846\u001b[39m     \u001b[38;5;66;03m#  necessary, but makes the `.take` more performant if we have e.g.\u001b[39;00m\n\u001b[32m    847\u001b[39m     \u001b[38;5;66;03m#  a MultiIndex for left.index.\u001b[39;00m\n\u001b[32m    848\u001b[39m     lmgr = left._mgr.reindex_indexer(\n\u001b[32m    849\u001b[39m         join_index,\n\u001b[32m    850\u001b[39m         left_indexer,\n\u001b[32m   (...)\u001b[39m\u001b[32m    855\u001b[39m         use_na_proxy=\u001b[38;5;28;01mTrue\u001b[39;00m,\n\u001b[32m    856\u001b[39m     )\n",
      "\u001b[36mFile \u001b[39m\u001b[32m~\\OneDrive - TED Üniversitesi\\Masaüstü\\smart-recommender\\venv\\Lib\\site-packages\\pandas\\core\\reshape\\merge.py:2757\u001b[39m, in \u001b[36m_items_overlap_with_suffix\u001b[39m\u001b[34m(left, right, suffixes)\u001b[39m\n\u001b[32m   2755\u001b[39m     dups.extend(rlabels[(rlabels.duplicated()) & (~right.duplicated())].tolist())\n\u001b[32m   2756\u001b[39m \u001b[38;5;28;01mif\u001b[39;00m dups:\n\u001b[32m-> \u001b[39m\u001b[32m2757\u001b[39m     \u001b[38;5;28;01mraise\u001b[39;00m MergeError(\n\u001b[32m   2758\u001b[39m         \u001b[33mf\u001b[39m\u001b[33m\"\u001b[39m\u001b[33mPassing \u001b[39m\u001b[33m'\u001b[39m\u001b[33msuffixes\u001b[39m\u001b[33m'\u001b[39m\u001b[33m which cause duplicate columns \u001b[39m\u001b[38;5;132;01m{\u001b[39;00m\u001b[38;5;28mset\u001b[39m(dups)\u001b[38;5;132;01m}\u001b[39;00m\u001b[33m is \u001b[39m\u001b[33m\"\u001b[39m\n\u001b[32m   2759\u001b[39m         \u001b[33mf\u001b[39m\u001b[33m\"\u001b[39m\u001b[33mnot allowed.\u001b[39m\u001b[33m\"\u001b[39m,\n\u001b[32m   2760\u001b[39m     )\n\u001b[32m   2762\u001b[39m \u001b[38;5;28;01mreturn\u001b[39;00m llabels, rlabels\n",
      "\u001b[31mMergeError\u001b[39m: Passing 'suffixes' which cause duplicate columns {'genres_combined_x'} is not allowed."
     ]
    }
   ],
   "source": [
    "popular_movies_df = popular_movies_df.merge(movies_info[['title', 'genres_combined']], on='title', how='left')\n",
    "popular_movies_df['genres_combined'] = popular_movies_df['genres_combined'].fillna('')\n",
    "\n",
    "print(popular_movies_df[['title', 'genres_combined']].head())\n"
   ]
  },
  {
   "cell_type": "code",
   "execution_count": 31,
   "id": "82f3ee97-2cd7-4e1e-8ffa-16ba87382f59",
   "metadata": {},
   "outputs": [
    {
     "name": "stdout",
     "output_type": "stream",
     "text": [
      "                                 title genres_combined\n",
      "0     Silence of the Lambs, The (1991)          Horror\n",
      "1                       Tin Cup (1996)       Drama,War\n",
      "2  Truth About Cats & Dogs, The (1996)       Drama,War\n",
      "3                        Eraser (1996)      Children's\n",
      "4         Sense and Sensibility (1995)      Horror,War\n"
     ]
    }
   ],
   "source": [
    "# Eğer varsa eski genres_combined sütununu sil\n",
    "if 'genres_combined' in popular_movies_df.columns:\n",
    "    popular_movies_df = popular_movies_df.drop(columns=['genres_combined'])\n",
    "\n",
    "# movies_info'dan tür bilgisi olan sütunu getir ve merge et\n",
    "popular_movies_df = popular_movies_df.merge(\n",
    "    movies_info[['title', 'genres_combined']],\n",
    "    on='title',\n",
    "    how='left'\n",
    ")\n",
    "\n",
    "# Boş olanları boş string yap\n",
    "popular_movies_df['genres_combined'] = popular_movies_df['genres_combined'].fillna('')\n",
    "\n",
    "# Kontrol için birkaç satır yazdır\n",
    "print(popular_movies_df[['title', 'genres_combined']].head())\n"
   ]
  },
  {
   "cell_type": "code",
   "execution_count": 35,
   "id": "250fa74a-573a-4d0c-af94-a42a1d2cb028",
   "metadata": {},
   "outputs": [
    {
     "name": "stdout",
     "output_type": "stream",
     "text": [
      "15    Shawshank Redemption, The (1994)\n",
      "18                  Primal Fear (1996)\n",
      "32                 Philadelphia (1993)\n",
      "46        It's a Wonderful Life (1946)\n",
      "64           Mr. Holland's Opus (1995)\n",
      "Name: title, dtype: object\n"
     ]
    }
   ],
   "source": [
    "import pandas as pd\n",
    "from sklearn.feature_extraction.text import TfidfVectorizer\n",
    "from sklearn.metrics.pairwise import linear_kernel\n",
    "\n",
    "# 1. Veri yükle (örnek: popular_movies_df, movies_info daha önce hazır olmalı)\n",
    "# popular_movies_df içinde 'title' ve 'genres_combined' sütunları olmalı\n",
    "\n",
    "# Örnek: indices'i tekil title-index eşlemesi yapacak şekilde oluştur\n",
    "indices = pd.Series(popular_movies_df.index, index=popular_movies_df['title']).drop_duplicates()\n",
    "\n",
    "# 2. TF-IDF modelini oluştur, genres_combined boşsa boş string yap\n",
    "tfidf = TfidfVectorizer(stop_words='english')\n",
    "tfidf_matrix = tfidf.fit_transform(popular_movies_df['genres_combined'].fillna(''))\n",
    "\n",
    "# 3. Kosinüs benzerlik matrisi\n",
    "cosine_sim = linear_kernel(tfidf_matrix, tfidf_matrix)\n",
    "\n",
    "# 4. Öneri fonksiyonu\n",
    "def get_recommendations(title, cosine_sim=cosine_sim, indices=indices, top_n=5):\n",
    "    if title not in indices:\n",
    "        return f\"'{title}' filmi veride bulunamadı.\"\n",
    "    \n",
    "    idx = indices[title]\n",
    "    \n",
    "    # flatten() ekledik burada:\n",
    "    sim_scores = list(enumerate(cosine_sim[idx].flatten()))\n",
    "    \n",
    "    sim_scores = sorted(sim_scores, key=lambda x: x[1], reverse=True)[1:top_n+1]\n",
    "    movie_indices = [i[0] for i in sim_scores]\n",
    "    return popular_movies_df['title'].iloc[movie_indices]\n",
    "\n",
    "\n",
    "# 5. Test et\n",
    "print(get_recommendations('Silence of the Lambs, The (1991)'))\n"
   ]
  },
  {
   "cell_type": "code",
   "execution_count": null,
   "id": "b5c482b7-54ee-4782-9c9f-76ccb6f34de2",
   "metadata": {},
   "outputs": [],
   "source": [
    "movie_name = input(\"Film adı girin: \")\n",
    "recommendations = get_recommendations(movie_name)\n",
    "print(\"Önerilen filmler:\")\n",
    "print(recommendations)\n",
    "\n"
   ]
  },
  {
   "cell_type": "code",
   "execution_count": null,
   "id": "517d591a-ff80-4148-8ff0-80aa5d90ee36",
   "metadata": {},
   "outputs": [],
   "source": []
  }
 ],
 "metadata": {
  "kernelspec": {
   "display_name": "Python 3 (ipykernel)",
   "language": "python",
   "name": "python3"
  },
  "language_info": {
   "codemirror_mode": {
    "name": "ipython",
    "version": 3
   },
   "file_extension": ".py",
   "mimetype": "text/x-python",
   "name": "python",
   "nbconvert_exporter": "python",
   "pygments_lexer": "ipython3",
   "version": "3.12.7"
  }
 },
 "nbformat": 4,
 "nbformat_minor": 5
}
